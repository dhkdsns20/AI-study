{
  "nbformat": 4,
  "nbformat_minor": 0,
  "metadata": {
    "colab": {
      "provenance": [],
      "authorship_tag": "ABX9TyNFZxbGjiJr0sKmqSxp1L7q",
      "include_colab_link": true
    },
    "kernelspec": {
      "name": "python3",
      "display_name": "Python 3"
    },
    "language_info": {
      "name": "python"
    }
  },
  "cells": [
    {
      "cell_type": "markdown",
      "metadata": {
        "id": "view-in-github",
        "colab_type": "text"
      },
      "source": [
        "<a href=\"https://colab.research.google.com/github/dhkdsns20/AI-study/blob/main/Ch_4_Various_classification_algorithms(1).ipynb\" target=\"_parent\"><img src=\"https://colab.research.google.com/assets/colab-badge.svg\" alt=\"Open In Colab\"/></a>"
      ]
    },
    {
      "cell_type": "markdown",
      "source": [
        "4장. 다양한 분류 알고리즘 (1) 로지스틱 회귀 알아보기"
      ],
      "metadata": {
        "id": "y0sYPoU8QF--"
      }
    },
    {
      "cell_type": "markdown",
      "source": [
        "https://github.com/rickiepark/hg-mldl/blob/master/4-1.ipynb"
      ],
      "metadata": {
        "id": "6su3oA-G0NsV"
      }
    },
    {
      "cell_type": "code",
      "source": [
        "\"\"\"### 로지스틱 회귀\"\"\"\n"
      ],
      "metadata": {
        "id": "00-lKEme-sNR"
      },
      "execution_count": null,
      "outputs": []
    }
  ]
}