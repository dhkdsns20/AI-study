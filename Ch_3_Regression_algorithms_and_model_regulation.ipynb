{
  "nbformat": 4,
  "nbformat_minor": 0,
  "metadata": {
    "colab": {
      "provenance": [],
      "authorship_tag": "ABX9TyOG58JSsC1d0HxbBjbR9mZt",
      "include_colab_link": true
    },
    "kernelspec": {
      "name": "python3",
      "display_name": "Python 3"
    },
    "language_info": {
      "name": "python"
    }
  },
  "cells": [
    {
      "cell_type": "markdown",
      "metadata": {
        "id": "view-in-github",
        "colab_type": "text"
      },
      "source": [
        "<a href=\"https://colab.research.google.com/github/dhkdsns20/AI-study/blob/main/Ch_3_Regression_algorithms_and_model_regulation.ipynb\" target=\"_parent\"><img src=\"https://colab.research.google.com/assets/colab-badge.svg\" alt=\"Open In Colab\"/></a>"
      ]
    },
    {
      "cell_type": "markdown",
      "source": [
        "Ch.3 회귀 알고리즘과 모델 규제\n",
        "(1) k-최근접 이웃 회귀\n",
        "(2) 선형회귀\n",
        "(3) 특성 공학과 규제"
      ],
      "metadata": {
        "id": "6ezcrFR75HDf"
      }
    },
    {
      "cell_type": "code",
      "source": [
        "\"\"\"#"
      ],
      "metadata": {
        "id": "gfDzx3iT5Vxx"
      },
      "execution_count": null,
      "outputs": []
    }
  ]
}